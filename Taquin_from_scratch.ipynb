{
  "nbformat": 4,
  "nbformat_minor": 0,
  "metadata": {
    "colab": {
      "name": "Taquin from scratch.ipynb",
      "provenance": [],
      "collapsed_sections": [],
      "authorship_tag": "ABX9TyO5Co0I6cUHta3cJeIX709Q",
      "include_colab_link": true
    },
    "kernelspec": {
      "name": "python3",
      "display_name": "Python 3"
    },
    "language_info": {
      "name": "python"
    }
  },
  "cells": [
    {
      "cell_type": "markdown",
      "metadata": {
        "id": "view-in-github",
        "colab_type": "text"
      },
      "source": [
        "<a href=\"https://colab.research.google.com/github/aws3ma/AI/blob/main/Taquin_from_scratch.ipynb\" target=\"_parent\"><img src=\"https://colab.research.google.com/assets/colab-badge.svg\" alt=\"Open In Colab\"/></a>"
      ]
    },
    {
      "cell_type": "code",
      "source": [
        "import heapq\n",
        "\n",
        "class PriorityQueue:\n",
        "    def __init__(self):\n",
        "        self.elements = []\n",
        "    \n",
        "    def empty(self) -> bool:\n",
        "        return not self.elements\n",
        "    \n",
        "    def put(self, item, priority):\n",
        "        heapq.heappush(self.elements, (priority, item))\n",
        "\n",
        "    def get(self):\n",
        "        return heapq.heappop(self.elements)[1]"
      ],
      "metadata": {
        "id": "ModqssgvHcQr"
      },
      "execution_count": 1,
      "outputs": []
    },
    {
      "cell_type": "code",
      "source": [
        "class Node:\n",
        "    def __init__(self, current_node, previous_node, g, h, dir):\n",
        "        self.current_node = current_node\n",
        "        self.previous_node = previous_node\n",
        "        self.g = g\n",
        "        self.h = h\n",
        "        self.dir = dir\n",
        "\n",
        "    def f(self):\n",
        "        return self.g + self.h\n",
        "    def __eq__(self, other):\n",
        "        return (self.f() == other.f())\n",
        "\n",
        "    def __lt__(self, other):\n",
        "        return (self.f() < other.f())\n",
        "\n",
        "    def __gt__(self, other):\n",
        "        return (self.f() > other.f())"
      ],
      "metadata": {
        "id": "XMNplFc7e_oO"
      },
      "execution_count": 2,
      "outputs": []
    },
    {
      "cell_type": "code",
      "execution_count": 3,
      "metadata": {
        "id": "aGsxKgY8Rr52"
      },
      "outputs": [],
      "source": [
        "from copy import deepcopy\n",
        "class Puzzle:\n",
        "\n",
        "    def __init__(self, l,n,goal):\n",
        "        self.m=self.array_to_matrix(l,n)\n",
        "        self.goal=goal\n",
        "    #convert the inisitial state from list to matrix\n",
        "    def array_to_matrix(self,l,n):\n",
        "      b=[]\n",
        "      m=[]\n",
        "      j=0\n",
        "      for k in l:\n",
        "        if j<n:\n",
        "            m.append(k)\n",
        "            j+=1\n",
        "        if j==n:\n",
        "            b.append(m)\n",
        "            m=[]\n",
        "            j=0\n",
        "      return b\n",
        "    #generate nodes to work with when needed from the algorithm A*\n",
        "    def get_neighbors(self, v):\n",
        "      zero_pos=self.pos(v.current_node,0)\n",
        "      possibilities_pos = self.generate_possibilities(zero_pos,len(self.m)-1)\n",
        "      possibilities =[]\n",
        "      for pos in possibilities_pos:\n",
        "        temp=deepcopy(v.current_node)\n",
        "        temp[zero_pos[0]][zero_pos[1]]=temp[pos[0]][pos[1]]\n",
        "        temp[pos[0]][pos[1]]=0\n",
        "        node = Node(temp,v,v.g+1,self.manhattan_distance(temp,self.goal),pos[2])\n",
        "        possibilities.append(Node(temp,v,v.g+1,self.manhattan_distance(temp,self.goal),pos[2]))\n",
        "      return possibilities\n",
        "    #calculate what kind of moves the blank case is able to\n",
        "    def generate_possibilities(self,m,n):\n",
        "      pos=[]\n",
        "      l=[]\n",
        "      if m[0]>0:\n",
        "          l.append(m[0]-1)\n",
        "          l.append(m[1])\n",
        "          l.append('D')\n",
        "          pos.append(l)\n",
        "          l=[]\n",
        "      if m[0]<n:\n",
        "          l.append(m[0]+1)\n",
        "          l.append(m[1])\n",
        "          l.append('U')\n",
        "          pos.append(l)\n",
        "          l=[]\n",
        "      if m[1]>0:\n",
        "          l.append(m[0])\n",
        "          l.append(m[1]-1)\n",
        "          l.append('R')\n",
        "          pos.append(l)\n",
        "          l=[]\n",
        "      if m[1]<n:\n",
        "          l.append(m[0])\n",
        "          l.append(m[1]+1)\n",
        "          l.append('L')\n",
        "          pos.append(l)\n",
        "          l=[]\n",
        "\n",
        "      return pos\n",
        "    # heuristic function calculate manhattan distance\n",
        "    def manhattan_distance(self, m,a):\n",
        "      s=0\n",
        "      for i in range(len(m)):\n",
        "        for j in range(len(m)):\n",
        "          if(m[i][j]!=0):\n",
        "            currentpos=self.pos(m,m[i][j])\n",
        "            goalpos=self.pos(a,m[i][j])\n",
        "            s+=abs(currentpos[0]-goalpos[0])+abs(currentpos[1]-goalpos[1])\n",
        "      return s\n",
        "    #get pos of k in puzzle\n",
        "    def pos(self,matrice,k):\n",
        "      i=0\n",
        "      j=0\n",
        "      while i<len(matrice):\n",
        "          while j<len(matrice):\n",
        "              if matrice[i][j]==k:\n",
        "                  return (i,j)\n",
        "              j+=1\n",
        "          j=0\n",
        "          i+=1\n",
        "      return (-1,-1)\n",
        "    # every node have the direction, we will collect them to define the fastest path as a list of characters\n",
        "    def buildPath(self,closedSet):\n",
        "      node = closedSet[str(self.goal)]\n",
        "      branch = list()\n",
        "      while node.dir:\n",
        "          branch.append(node.dir)\n",
        "          node = closedSet[str(node.previous_node.current_node)]\n",
        "      branch.reverse()\n",
        "      return branch\n",
        "\n",
        "    def a_star_search(self):\n",
        "        closed_set = {}\n",
        "        frontier = PriorityQueue()\n",
        "        frontier.put(Node(self.m, self.m, 0, self.manhattan_distance(self.m,self.goal), \"\"),0)\n",
        "\n",
        "        while True:\n",
        "            if frontier.empty():\n",
        "              return None\n",
        "            test_node = frontier.get()\n",
        "            closed_set[str(test_node.current_node)] = test_node\n",
        "            if test_node.current_node == self.goal:\n",
        "                return self.buildPath(closed_set)\n",
        "\n",
        "            neighbors = self.get_neighbors(test_node)\n",
        "            for node in neighbors:\n",
        "                if str(node.current_node) in closed_set.keys():\n",
        "                    continue        \n",
        "                frontier.put(node,node.f())\n",
        "    \n",
        "\n",
        "\n"
      ]
    },
    {
      "cell_type": "code",
      "source": [
        "\n",
        "# goal = [[1,2],[3,0]]\n",
        "# l = [2,3,0,1]\n",
        "goal = [[1,2,3],[4,5,6],[7,8,0]]\n",
        "l= [1,7,3,6,4,8,2,5,0]\n",
        "#unfortunately this solution can't solve 4*4\n",
        "# goal = [[1,2,3,4],[5,6,7,8],[9,10,11,12],[13,14,15,0]]\n",
        "# l=[14,5,10,7,6,1,9,3,11,4,12,2,15,13,8,0]\n",
        "\n",
        "p = Puzzle(l,3,goal)\n",
        "\n",
        "cf=p.a_star_search()\n",
        "\n",
        "print(cf)\n"
      ],
      "metadata": {
        "id": "TTGcd8smav6T",
        "colab": {
          "base_uri": "https://localhost:8080/"
        },
        "outputId": "084ecfac-2ac1-40a9-a6fc-d58fbb6167c9"
      },
      "execution_count": 5,
      "outputs": [
        {
          "output_type": "stream",
          "name": "stdout",
          "text": [
            "['R', 'R', 'D', 'L', 'D', 'R', 'U', 'L', 'U', 'R', 'D', 'D', 'L', 'U', 'U', 'L', 'D', 'R', 'U', 'L']\n"
          ]
        }
      ]
    }
  ]
}