{
 "cells": [
  {
   "cell_type": "code",
   "execution_count": 53,
   "metadata": {},
   "outputs": [],
   "source": [
    "class Produit:\n",
    "    def __init__(self,id_prod,desg,prix):\n",
    "        self.id_prod = id_prod\n",
    "        self.desg = desg\n",
    "        self.prix=prix\n",
    "        self.clients = []\n",
    "    def changerprix(self,newprix):\n",
    "        self.prix=newprix\n",
    "    def ajouter_cli(self,cli):\n",
    "        self.clients.append(cli)\n",
    "    def supp_cli(self,cli):\n",
    "        self.clients.remove(cli)\n",
    "    def affclients(self):\n",
    "        for c in self.clients:\n",
    "            print(c.__str__())\n",
    "    def __str__(self):\n",
    "        return \" ID produit : {} \\n Designation : {} \\n Prix : {}\".format(self.id_prod,self.desg,self.prix)"
   ]
  },
  {
   "cell_type": "code",
   "execution_count": null,
   "metadata": {},
   "outputs": [],
   "source": [
    "class Prod_aliment(Produit):\n",
    "    def __init__(self):\n",
    "        "
   ]
  },
  {
   "cell_type": "code",
   "execution_count": 50,
   "metadata": {},
   "outputs": [],
   "source": [
    "class Client:\n",
    "    def __init__(self,id_cl,nom,prenom):\n",
    "        self.id_cl=id_cl\n",
    "        self.nom=nom\n",
    "        self.prenom=prenom\n",
    "        self.produi=[]\n",
    "    def acheter(self,*prods):\n",
    "        for p in prods:\n",
    "            self.produi.append(p)\n",
    "            p.ajouter_cli(self)\n",
    "    def affich_panier(self):\n",
    "        if(len(self.produi)>0):\n",
    "            \n",
    "            for p in self.produi:\n",
    "                print(p.__str__())\n",
    "        else:\n",
    "            print(\"panier vide\")\n",
    "    def __str__(self) -> str:\n",
    "        return \" ID client : {} Nom : {} Prenom : {}\".format(self.id_cl,self.nom,self.prenom)\n",
    "    def retourner_prod(self,p):\n",
    "        try:\n",
    "            self.produi.remove(p)\n",
    "            p.supp_cli(self)\n",
    "        except ValueError : print(\"produit introuvable\")\n",
    "        "
   ]
  },
  {
   "cell_type": "code",
   "execution_count": 55,
   "metadata": {},
   "outputs": [
    {
     "name": "stdout",
     "output_type": "stream",
     "text": [
      " ID client : 1 Nom : oussema Prenom : trabelsi\n",
      " ID produit : 1 \n",
      " Designation : PC \n",
      " Prix : 3000\n",
      " ID produit : 2 \n",
      " Designation : souris \n",
      " Prix : 29\n",
      "\n",
      " ID client : 2 Nom : ska Prenom : haddar\n",
      " ID produit : 2 \n",
      " Designation : souris \n",
      " Prix : 29\n",
      " ID produit : 1 \n",
      " Designation : clavier \n",
      " Prix : 40\n",
      " ID produit : 2 \n",
      " Designation : casque \n",
      " Prix : 100\n",
      "les clients des produits\n",
      " ID client : 1 Nom : oussema Prenom : trabelsi\n",
      " ID client : 1 Nom : oussema Prenom : trabelsi\n",
      " ID client : 2 Nom : ska Prenom : haddar\n",
      " ID client : 2 Nom : ska Prenom : haddar\n",
      " ID client : 2 Nom : ska Prenom : haddar\n"
     ]
    }
   ],
   "source": [
    "C1=Client(1,\"oussema\",\"trabelsi\")\n",
    "C2=Client(2,\"ska\",\"haddar\")\n",
    "P1=Produit(1,\"PC\",3000)\n",
    "P2=Produit(2,\"souris\",29)\n",
    "P3=Produit(1,\"clavier\",40)\n",
    "P4=Produit(2,\"casque\",100)\n",
    "C1.acheter(P1,P2)\n",
    "C2.acheter(P2,P3,P4)\n",
    "print(C1.__str__())\n",
    "C1.affich_panier()\n",
    "print()\n",
    "print(C2.__str__())\n",
    "C2.affich_panier()\n",
    "print(\"les clients des produits\")\n",
    "P1.affclients()\n",
    "P2.affclients()\n",
    "P3.affclients()\n",
    "P4.affclients()"
   ]
  },
  {
   "cell_type": "code",
   "execution_count": null,
   "metadata": {},
   "outputs": [],
   "source": []
  }
 ],
 "metadata": {
  "interpreter": {
   "hash": "997eaa65cc0cfa6a6e5a8c30deef3afd8038f99bc018a0673d98e7debaf856c7"
  },
  "kernelspec": {
   "display_name": "Python 3.9.10 64-bit (windows store)",
   "language": "python",
   "name": "python3"
  },
  "language_info": {
   "codemirror_mode": {
    "name": "ipython",
    "version": 3
   },
   "file_extension": ".py",
   "mimetype": "text/x-python",
   "name": "python",
   "nbconvert_exporter": "python",
   "pygments_lexer": "ipython3",
   "version": "3.8.8"
  },
  "orig_nbformat": 4
 },
 "nbformat": 4,
 "nbformat_minor": 2
}
