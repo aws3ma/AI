{
  "nbformat": 4,
  "nbformat_minor": 0,
  "metadata": {
    "colab": {
      "name": "agents.ipynb",
      "provenance": [],
      "collapsed_sections": []
    },
    "kernelspec": {
      "name": "python3",
      "display_name": "Python 3"
    },
    "language_info": {
      "name": "python"
    }
  },
  "cells": [
    {
      "cell_type": "markdown",
      "source": [
        "* **importatation des bibliothèques**"
      ],
      "metadata": {
        "id": "lvsDijkmfxuB"
      }
    },
    {
      "cell_type": "code",
      "execution_count": 13,
      "metadata": {
        "id": "BcIilL5qfL0x"
      },
      "outputs": [],
      "source": [
        "import random\n",
        "import matplotlib.pyplot as plt\n",
        "import pandas as pd\n",
        "from display import Displayable # displayable est une classe dans le fichier display.py"
      ]
    },
    {
      "cell_type": "markdown",
      "source": [
        "* **Définir la classe Agent**"
      ],
      "metadata": {
        "id": "5pmw7MOPf6uj"
      }
    },
    {
      "cell_type": "code",
      "source": [
        "class Agent:\n",
        "  def __init__(self,env):\n",
        "    \"\"\" configurer un agent \"\"\"\n",
        "    self.env=env # env signifie l'environnement avec lequel l'agent va intéragir\n",
        "    \n",
        "  def go(self,n):\n",
        "    \"\"\"l'agent va intéragir avec l'environnement n fois\"\"\"\n",
        "    raise NotImplementedError(\"go\")   # abstract method"
      ],
      "metadata": {
        "id": "nwHQvBmwf62N"
      },
      "execution_count": 2,
      "outputs": []
    },
    {
      "cell_type": "markdown",
      "source": [
        "* **Définir la classe Environment** "
      ],
      "metadata": {
        "id": "06TNuf-_hS90"
      }
    },
    {
      "cell_type": "code",
      "source": [
        "class Environment(Displayable): # La classe Environment est une sous classe de Displayable\n",
        "  def initial_percepts(self):\n",
        "    \"\"\"retourner la perception initiale à l'agent\"\"\"\n",
        "    raise NotImplementedError(\"initial_percepts\")   # abstract method\n",
        "    \n",
        "  def do(self,action):\n",
        "    \"\"\"exécuter l'action de l'agent sur l'environnement et retourner la perception suivante\"\"\"\n",
        "    raise NotImplementedError(\"do\")   # abstract method"
      ],
      "metadata": {
        "id": "LQmYqIDVhTHM"
      },
      "execution_count": 4,
      "outputs": []
    },
    {
      "cell_type": "markdown",
      "source": [
        "* **Définir la classe TP_env (sous classe de Environment)**"
      ],
      "metadata": {
        "id": "ng7_P9K0icfP"
      }
    },
    {
      "cell_type": "code",
      "source": [
        "class TP_env(Environment):\n",
        "\n",
        "  # prices: liste contenant les prix initiaux du papier à des instants différents (taille = 78)\n",
        "  prices = [234, 234, 234, 234, 255, 255, 275, 275, 211, 211, 211, 234, 234,\n",
        "            234, 234, 199, 199, 275, 275, 234, 234, 234, 234, 255, 255, 260,\n",
        "            260, 265, 265, 265, 265, 270, 270, 255, 255, 260, 260, 265, 265,\n",
        "            150, 150, 265, 265, 270, 270, 255, 255, 260, 260, 265, 265, 265,\n",
        "            265, 270, 270, 211, 211, 255, 255, 260, 260, 265, 265, 260, 265,\n",
        "            270, 270, 205, 255, 255, 260, 260, 265, 265, 265, 265, 270, 270]\n",
        "\n",
        "  max_price_addon = 20  # la valeur maximale à ajouter au prix initial du papier [0 .. 20]\n",
        "\n",
        "  def __init__(self):\n",
        "    \"\"\"Définir les attributs de l'environnement\"\"\"\n",
        "    self.time=0\n",
        "    self.stock=20\n",
        "    self.stock_history = []  # mémoriser l'historique du stock\n",
        "    self.price_history = []  # mémoriser l'historique des prix du papier\n",
        "    self.used_history = [] # mémoriser l'historique des papiers utilisés\n",
        "\n",
        "  def initial_percepts(self):\n",
        "    \"\"\"retourner la perception initiale à l'agent\"\"\"\n",
        "    # La perception retournée à l'agent contient le prix et la quantité en stock du papier\n",
        "    self.stock_history.append(self.stock)\n",
        "    price = self.prices[0]+random.randrange(self.max_price_addon)\n",
        "    self.price_history.append(price)\n",
        "    return {'price': price, 'instock': self.stock}\n",
        "\n",
        "  def do(self, action):\n",
        "    \"\"\"exécuter l'action de l'agent (achat papier) et retourner la nouvelle perception (prix et stock)\"\"\"\n",
        "    used = self.pick_from_dist({6:0.1, 5:0.1, 4:0.2, 3:0.3, 2:0.2, 1:0.1}) # retirer une quantité du stock\n",
        "    bought = action['buy'] # acheter une quantité de papiers\n",
        "    self.stock = self.stock + bought - used\n",
        "    self.stock_history.append(self.stock)\n",
        "    self.time += 1\n",
        "    price = (self.prices[self.time%len(self.prices)] # repeating pattern\n",
        "             + random.randrange(self.max_price_addon) # plus randomness (0..20)\n",
        "             + self.time//2)                          # plus inflation\n",
        "    self.price_history.append(price)\n",
        "    self.used_history.append(used)\n",
        "    return {'price': price, 'instock': self.stock}\n",
        "\n",
        "  def pick_from_dist(self, item_prob_dist):\n",
        "    \"\"\" retourner une valeur de la distribution.\n",
        "    item_prob_dist est un dictionnaire de la forme item:probability, avec la \n",
        "        somme des probabilitées est égale à 1.\n",
        "    \"\"\"\n",
        "    ranreal = random.random() # compris entre 0 et 1\n",
        "    for (it,prob) in item_prob_dist.items():\n",
        "        if ranreal < prob:\n",
        "            return it\n",
        "        else:\n",
        "            ranreal -= prob\n",
        "    raise RuntimeError(str(item_prob_dist)+\" is not a probability distribution\")"
      ],
      "metadata": {
        "id": "8gy3diTyiclb"
      },
      "execution_count": 5,
      "outputs": []
    },
    {
      "cell_type": "markdown",
      "source": [
        "* **Définir la classe TP_agent (sous classe de Agent)**"
      ],
      "metadata": {
        "id": "p_TF3DgzuN7M"
      }
    },
    {
      "cell_type": "code",
      "source": [
        "class TP_agent(Agent):\n",
        "  def __init__(self, env):\n",
        "    \"\"\"Définir les attributs de l'agent\n",
        "    \"\"\"\n",
        "    self.env = env  # env est l'environnement avec lequel l'agent va intéragir\n",
        "    self.spent = 0 # l'agent n'a rien dépensé pour l'instant  \n",
        "    percepts = env.initial_percepts() # percepts est un dictionnaire contenant l'état initial de env (prix, stock)\n",
        "    self.ave = self.last_price = percepts['price'] # ave est la moyenne des prix du papier durant les intéractions  \n",
        "    self.instock = percepts['instock'] # quantité du papier en stock\n",
        "    self.buy_history = []\n",
        "\n",
        "        \n",
        "  def go(self, n):\n",
        "    \"\"\"intéragir avec l'environement n fois\n",
        "    \"\"\"\n",
        "    for i in range(n):\n",
        "      if self.last_price < (0.9 * self.ave) and self.instock < 60:\n",
        "        tobuy = 48\n",
        "      elif self.instock < 12:\n",
        "        tobuy = 12\n",
        "      else:\n",
        "        tobuy = 0\n",
        "      self.spent += tobuy * self.last_price # mettre à jour la variable spent\n",
        "      percepts = env.do({'buy': tobuy}) # exécuter l'action achat avec la quantité tobuy\n",
        "      self.last_price = percepts['price'] \n",
        "      self.ave = self.ave + (self.last_price - self.ave) * 0.05\n",
        "      self.instock = percepts['instock']\n",
        "      self.buy_history.append(tobuy)"
      ],
      "metadata": {
        "id": "LK2gXN-ouODK"
      },
      "execution_count": 6,
      "outputs": []
    },
    {
      "cell_type": "markdown",
      "source": [
        "* **Exécuter le programme principal**"
      ],
      "metadata": {
        "id": "Bzv03FKrxvh2"
      }
    },
    {
      "cell_type": "code",
      "source": [
        "# créer une instance de la classe TP_env\n",
        "env = TP_env()\n",
        "\n",
        "# créer une instance TP_agent\n",
        "ag = TP_agent(env)\n",
        "\n",
        "# Exécuter l'action d'achat pour n = 90\n",
        "n = 120\n",
        "ag.go(n)\n",
        "ag.spent/env.time   ## average spent per time period\n",
        "\n",
        "# Afficher l'historique de l'interaction Agent --> Environement\n",
        "ag.buy_history.append(0)\n",
        "env.used_history.append(0)\n",
        "history = pd.DataFrame(\n",
        "    {\n",
        "     \"Stock history\" : env.stock_history,\n",
        "     \"Price history:\" : env.price_history,\n",
        "     \"Used history:\" : env.used_history,\n",
        "     \"Buy Qte\" : ag.buy_history\n",
        "\n",
        "    }\n",
        ")\n",
        "history.to_excel('TP1.xlsx', header=True, index = False)\n",
        "history"
      ],
      "metadata": {
        "id": "Lqgy9oEvxvso"
      },
      "execution_count": 14,
      "outputs": []
    },
    {
      "cell_type": "markdown",
      "source": [
        "* **Afficher l'historique des prix et la quantité du papier achetée**"
      ],
      "metadata": {
        "id": "4pS-DT2byapY"
      }
    },
    {
      "cell_type": "code",
      "source": [
        "class Plot_prices(object):\n",
        "  \"\"\"Set up the plot for history of price and number in stock\"\"\"\n",
        "  def __init__(self, ag,env):\n",
        "      self.ag = ag\n",
        "      self.env = env\n",
        "      plt.ion()\n",
        "      plt.xlabel(\"Time\")\n",
        "      plt.ylabel(\"Number in stock.                                              Price.\")\n",
        "\n",
        "  def plot_run(self):\n",
        "      \"\"\"plot history of price and instock\"\"\"\n",
        "      num = len(env.stock_history)\n",
        "      plt.plot(range(num),env.stock_history,label=\"In stock\")\n",
        "      plt.plot(range(num),env.price_history,label=\"Price\")\n",
        "      #plt.legend(loc=\"upper left\")\n",
        "      plt.draw()\n",
        "\n",
        "pl = Plot_prices(ag,env)\n",
        "#ag.go(90); \n",
        "pl.plot_run()"
      ],
      "metadata": {
        "colab": {
          "base_uri": "https://localhost:8080/",
          "height": 299
        },
        "id": "or66Odxuyazn",
        "outputId": "4d9b9631-97f4-43e6-9210-92c9634f08b4"
      },
      "execution_count": 12,
      "outputs": [
        {
          "output_type": "display_data",
          "data": {
            "image/png": "[encoded data removed]",
            "text/plain": [
              "<Figure size 432x288 with 1 Axes>"
            ]
          },
          "metadata": {
            "needs_background": "light"
          }
        }
      ]
    }
  ]
}