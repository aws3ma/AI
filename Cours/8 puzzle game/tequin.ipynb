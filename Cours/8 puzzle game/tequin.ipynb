{
 "cells": [
  {
   "cell_type": "code",
   "execution_count": 22,
   "metadata": {},
   "outputs": [],
   "source": [
    "DIRECTIONS = {\"U\": [-1, 0], \"D\": [1, 0], \"L\": [0, -1], \"R\": [0, 1]}\n",
    "END = [[0,1, 2], [3,4, 5], [6,7, 8]]"
   ]
  },
  {
   "cell_type": "code",
   "execution_count": 23,
   "metadata": {},
   "outputs": [],
   "source": [
    "#it is the node which store each state of puzzle\n",
    "class Node:\n",
    "    def __init__(self, current_node, previous_node, g, h, dir):\n",
    "        self.current_node = current_node\n",
    "        self.previous_node = previous_node\n",
    "        self.g = g\n",
    "        self.h = h\n",
    "        self.dir = dir\n",
    "\n",
    "    def f(self):\n",
    "        return self.g + self.h\n"
   ]
  },
  {
   "cell_type": "code",
   "execution_count": 24,
   "metadata": {},
   "outputs": [],
   "source": [
    "def get_pos(current_state, element):\n",
    "    for row in range(len(current_state)):\n",
    "        if element in current_state[row]:\n",
    "            return (row, current_state[row].index(element))"
   ]
  },
  {
   "cell_type": "code",
   "execution_count": 25,
   "metadata": {},
   "outputs": [],
   "source": [
    "#it is a distance calculation algo\n",
    "def euclidianCost(current_state):\n",
    "    cost = 0\n",
    "    for row in range(len(current_state)):\n",
    "        for col in range(len(current_state[0])):\n",
    "            pos = get_pos(END, current_state[row][col])\n",
    "            cost += abs(row - pos[0]) + abs(col - pos[1])\n",
    "    return cost"
   ]
  },
  {
   "cell_type": "code",
   "execution_count": 26,
   "metadata": {},
   "outputs": [],
   "source": [
    "#get adjucent Nodes\n",
    "from copy import deepcopy\n",
    "def getAdjNode(node):\n",
    "    listNode = []\n",
    "    emptyPos = get_pos(node.current_node, 0)\n",
    "\n",
    "    for dir in DIRECTIONS.keys():\n",
    "        newPos = (emptyPos[0] + DIRECTIONS[dir][0], emptyPos[1] + DIRECTIONS[dir][1])\n",
    "        if 0 <= newPos[0] < len(node.current_node) and 0 <= newPos[1] < len(node.current_node[0]):\n",
    "            newState = deepcopy(node.current_node)\n",
    "            newState[emptyPos[0]][emptyPos[1]] = node.current_node[newPos[0]][newPos[1]]\n",
    "            newState[newPos[0]][newPos[1]] = 0\n",
    "            # listNode += [Node(newState, node.current_node, node.g + 1, euclidianCost(newState), dir)]\n",
    "            listNode.append(Node(newState, node.current_node, node.g + 1, euclidianCost(newState), dir))\n",
    "\n",
    "    return listNode"
   ]
  },
  {
   "cell_type": "code",
   "execution_count": 27,
   "metadata": {},
   "outputs": [],
   "source": [
    "#get the best node available among nodes\n",
    "def getBestNode(openSet):\n",
    "    firstIter = True\n",
    "\n",
    "    for node in openSet.values():\n",
    "        if firstIter or node.f() < bestF:\n",
    "            firstIter = False\n",
    "            bestNode = node\n",
    "            bestF = bestNode.f()\n",
    "    return bestNode"
   ]
  },
  {
   "cell_type": "code",
   "execution_count": 28,
   "metadata": {},
   "outputs": [],
   "source": [
    "#this functionn create the smallest path\n",
    "def buildPath(closedSet):\n",
    "    node = closedSet[str(END)]\n",
    "    branch = list()\n",
    "\n",
    "    while node.dir:\n",
    "        branch.append({\n",
    "            'dir': node.dir,\n",
    "            'node': node.current_node\n",
    "        })\n",
    "        node = closedSet[str(node.previous_node)]\n",
    "    branch.append({\n",
    "        'dir': '',\n",
    "        'node': node.current_node\n",
    "    })\n",
    "    branch.reverse()\n",
    "\n",
    "    return branch"
   ]
  },
  {
   "cell_type": "code",
   "execution_count": 29,
   "metadata": {},
   "outputs": [],
   "source": [
    "#main function of node\n",
    "def main(puzzle):\n",
    "    open_set = {str(puzzle): Node(puzzle, puzzle, 0, euclidianCost(puzzle), \"\")}\n",
    "    closed_set = {}\n",
    "\n",
    "    while True:\n",
    "        test_node = getBestNode(open_set)\n",
    "        closed_set[str(test_node.current_node)] = test_node\n",
    "\n",
    "        if test_node.current_node == END:\n",
    "            return buildPath(closed_set)\n",
    "\n",
    "        adj_node = getAdjNode(test_node)\n",
    "        for node in adj_node:\n",
    "            if str(node.current_node) in closed_set.keys() or str(node.current_node) in open_set.keys() and open_set[\n",
    "                str(node.current_node)].f() < node.f():\n",
    "                continue\n",
    "            open_set[str(node.current_node)] = node\n",
    "\n",
    "        del open_set[str(test_node.current_node)]"
   ]
  },
  {
   "cell_type": "code",
   "execution_count": 30,
   "metadata": {},
   "outputs": [
    {
     "name": "stdout",
     "output_type": "stream",
     "text": [
      "total steps :  26\n",
      "{'dir': '', 'node': [[8, 7, 0], [2, 4, 6], [1, 5, 3]]}\n",
      "\n",
      "[8, 7, 0] [2, 4, 6] [1, 5, 3]\n",
      "{'dir': 'L', 'node': [[8, 0, 7], [2, 4, 6], [1, 5, 3]]}\n",
      "L\n",
      "[8, 0, 7] [2, 4, 6] [1, 5, 3]\n",
      "{'dir': 'L', 'node': [[0, 8, 7], [2, 4, 6], [1, 5, 3]]}\n",
      "L\n",
      "[0, 8, 7] [2, 4, 6] [1, 5, 3]\n",
      "{'dir': 'D', 'node': [[2, 8, 7], [0, 4, 6], [1, 5, 3]]}\n",
      "D\n",
      "[2, 8, 7] [0, 4, 6] [1, 5, 3]\n",
      "{'dir': 'D', 'node': [[2, 8, 7], [1, 4, 6], [0, 5, 3]]}\n",
      "D\n",
      "[2, 8, 7] [1, 4, 6] [0, 5, 3]\n",
      "{'dir': 'R', 'node': [[2, 8, 7], [1, 4, 6], [5, 0, 3]]}\n",
      "R\n",
      "[2, 8, 7] [1, 4, 6] [5, 0, 3]\n",
      "{'dir': 'R', 'node': [[2, 8, 7], [1, 4, 6], [5, 3, 0]]}\n",
      "R\n",
      "[2, 8, 7] [1, 4, 6] [5, 3, 0]\n",
      "{'dir': 'U', 'node': [[2, 8, 7], [1, 4, 0], [5, 3, 6]]}\n",
      "U\n",
      "[2, 8, 7] [1, 4, 0] [5, 3, 6]\n",
      "{'dir': 'U', 'node': [[2, 8, 0], [1, 4, 7], [5, 3, 6]]}\n",
      "U\n",
      "[2, 8, 0] [1, 4, 7] [5, 3, 6]\n",
      "{'dir': 'L', 'node': [[2, 0, 8], [1, 4, 7], [5, 3, 6]]}\n",
      "L\n",
      "[2, 0, 8] [1, 4, 7] [5, 3, 6]\n",
      "{'dir': 'L', 'node': [[0, 2, 8], [1, 4, 7], [5, 3, 6]]}\n",
      "L\n",
      "[0, 2, 8] [1, 4, 7] [5, 3, 6]\n",
      "{'dir': 'D', 'node': [[1, 2, 8], [0, 4, 7], [5, 3, 6]]}\n",
      "D\n",
      "[1, 2, 8] [0, 4, 7] [5, 3, 6]\n",
      "{'dir': 'D', 'node': [[1, 2, 8], [5, 4, 7], [0, 3, 6]]}\n",
      "D\n",
      "[1, 2, 8] [5, 4, 7] [0, 3, 6]\n",
      "{'dir': 'R', 'node': [[1, 2, 8], [5, 4, 7], [3, 0, 6]]}\n",
      "R\n",
      "[1, 2, 8] [5, 4, 7] [3, 0, 6]\n",
      "{'dir': 'R', 'node': [[1, 2, 8], [5, 4, 7], [3, 6, 0]]}\n",
      "R\n",
      "[1, 2, 8] [5, 4, 7] [3, 6, 0]\n",
      "{'dir': 'U', 'node': [[1, 2, 8], [5, 4, 0], [3, 6, 7]]}\n",
      "U\n",
      "[1, 2, 8] [5, 4, 0] [3, 6, 7]\n",
      "{'dir': 'U', 'node': [[1, 2, 0], [5, 4, 8], [3, 6, 7]]}\n",
      "U\n",
      "[1, 2, 0] [5, 4, 8] [3, 6, 7]\n",
      "{'dir': 'L', 'node': [[1, 0, 2], [5, 4, 8], [3, 6, 7]]}\n",
      "L\n",
      "[1, 0, 2] [5, 4, 8] [3, 6, 7]\n",
      "{'dir': 'D', 'node': [[1, 4, 2], [5, 0, 8], [3, 6, 7]]}\n",
      "D\n",
      "[1, 4, 2] [5, 0, 8] [3, 6, 7]\n",
      "{'dir': 'L', 'node': [[1, 4, 2], [0, 5, 8], [3, 6, 7]]}\n",
      "L\n",
      "[1, 4, 2] [0, 5, 8] [3, 6, 7]\n",
      "{'dir': 'D', 'node': [[1, 4, 2], [3, 5, 8], [0, 6, 7]]}\n",
      "D\n",
      "[1, 4, 2] [3, 5, 8] [0, 6, 7]\n",
      "{'dir': 'R', 'node': [[1, 4, 2], [3, 5, 8], [6, 0, 7]]}\n",
      "R\n",
      "[1, 4, 2] [3, 5, 8] [6, 0, 7]\n",
      "{'dir': 'R', 'node': [[1, 4, 2], [3, 5, 8], [6, 7, 0]]}\n",
      "R\n",
      "[1, 4, 2] [3, 5, 8] [6, 7, 0]\n",
      "{'dir': 'U', 'node': [[1, 4, 2], [3, 5, 0], [6, 7, 8]]}\n",
      "U\n",
      "[1, 4, 2] [3, 5, 0] [6, 7, 8]\n",
      "{'dir': 'L', 'node': [[1, 4, 2], [3, 0, 5], [6, 7, 8]]}\n",
      "L\n",
      "[1, 4, 2] [3, 0, 5] [6, 7, 8]\n",
      "{'dir': 'U', 'node': [[1, 0, 2], [3, 4, 5], [6, 7, 8]]}\n",
      "U\n",
      "[1, 0, 2] [3, 4, 5] [6, 7, 8]\n",
      "{'dir': 'L', 'node': [[0, 1, 2], [3, 4, 5], [6, 7, 8]]}\n",
      "L\n",
      "[0, 1, 2] [3, 4, 5] [6, 7, 8]\n"
     ]
    }
   ],
   "source": [
    "br = main([[8, 7, 0],\n",
    "               [2, 4, 6],\n",
    "               [1, 5, 3]])\n",
    "print('total steps : ', len(br) - 1)\n",
    "for b in br:\n",
    "    print(b)\n",
    "    print(b['dir'])\n",
    "    print(*b['node'])"
   ]
  }
 ],
 "metadata": {
  "interpreter": {
   "hash": "3538452c4bba0c408730e56615d685ad5da58497f0f246475a966f0fdf309a5f"
  },
  "kernelspec": {
   "display_name": "Python 3.8.8 ('base')",
   "language": "python",
   "name": "python3"
  },
  "language_info": {
   "codemirror_mode": {
    "name": "ipython",
    "version": 3
   },
   "file_extension": ".py",
   "mimetype": "text/x-python",
   "name": "python",
   "nbconvert_exporter": "python",
   "pygments_lexer": "ipython3",
   "version": "3.8.8"
  },
  "orig_nbformat": 4
 },
 "nbformat": 4,
 "nbformat_minor": 2
}
